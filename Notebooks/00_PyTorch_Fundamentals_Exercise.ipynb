{
  "nbformat": 4,
  "nbformat_minor": 0,
  "metadata": {
    "colab": {
      "provenance": [],
      "gpuType": "T4",
      "authorship_tag": "ABX9TyMR3JlrGMnbJz1tcxvz6UVI",
      "include_colab_link": true
    },
    "kernelspec": {
      "name": "python3",
      "display_name": "Python 3"
    },
    "language_info": {
      "name": "python"
    },
    "accelerator": "GPU"
  },
  "cells": [
    {
      "cell_type": "markdown",
      "metadata": {
        "id": "view-in-github",
        "colab_type": "text"
      },
      "source": [
        "<a href=\"https://colab.research.google.com/github/Abdulla-asim/DeepLearning/blob/main/Notebooks/00_PyTorch_Fundamentals_Exercise.ipynb\" target=\"_parent\"><img src=\"https://colab.research.google.com/assets/colab-badge.svg\" alt=\"Open In Colab\"/></a>"
      ]
    },
    {
      "cell_type": "markdown",
      "source": [
        "# 00. PyTorch Fundamentals Exercises"
      ],
      "metadata": {
        "id": "cHeFjwfiLHEr"
      }
    },
    {
      "cell_type": "markdown",
      "source": [
        "## 1. Create a random tensor with shape (7, 7)\n"
      ],
      "metadata": {
        "id": "KY_OLQjcLNPX"
      }
    },
    {
      "cell_type": "code",
      "source": [
        "import torch\n",
        "tensor = torch.rand(7, 7)\n",
        "tensor"
      ],
      "metadata": {
        "colab": {
          "base_uri": "https://localhost:8080/"
        },
        "id": "DAKU1wY5LfMK",
        "outputId": "68a54a9e-16d4-49fb-935e-0425e49e904b"
      },
      "execution_count": null,
      "outputs": [
        {
          "output_type": "execute_result",
          "data": {
            "text/plain": [
              "tensor([[0.3142, 0.9230, 0.8082, 0.1452, 0.8882, 0.3343, 0.3550],\n",
              "        [0.8059, 0.1852, 0.5712, 0.9319, 0.7196, 0.0973, 0.3805],\n",
              "        [0.3181, 0.7353, 0.9904, 0.9061, 0.1975, 0.6124, 0.5349],\n",
              "        [0.9953, 0.5523, 0.5346, 0.8425, 0.2614, 0.9123, 0.7825],\n",
              "        [0.1602, 0.3624, 0.1238, 0.3612, 0.6893, 0.1998, 0.0989],\n",
              "        [0.9416, 0.4724, 0.5086, 0.7067, 0.9433, 0.3981, 0.9885],\n",
              "        [0.6862, 0.3607, 0.1196, 0.3111, 0.6874, 0.0458, 0.8896]])"
            ]
          },
          "metadata": {},
          "execution_count": 4
        }
      ]
    },
    {
      "cell_type": "markdown",
      "source": [
        "## 2. Perform a matrix multiplication on the tensor from 1 with another random tensor with shape (1, 7) (hint: you may have to transpose the second tensor)."
      ],
      "metadata": {
        "id": "ynW_eJEfLlv-"
      }
    },
    {
      "cell_type": "code",
      "source": [
        "tensor_2 = torch.rand(1, 7)\n",
        "torch.matmul(tensor, tensor_2.T)\n"
      ],
      "metadata": {
        "colab": {
          "base_uri": "https://localhost:8080/"
        },
        "id": "FkM5OeogML17",
        "outputId": "3aad683a-b764-4783-b973-029d57f4915f"
      },
      "execution_count": null,
      "outputs": [
        {
          "output_type": "execute_result",
          "data": {
            "text/plain": [
              "tensor([[1.2690],\n",
              "        [1.3414],\n",
              "        [1.5353],\n",
              "        [1.9510],\n",
              "        [0.7622],\n",
              "        [1.9930],\n",
              "        [1.3287]])"
            ]
          },
          "metadata": {},
          "execution_count": 5
        }
      ]
    },
    {
      "cell_type": "markdown",
      "source": [
        "## 3. Set the random seed to 0 and do 2 & 3 over again."
      ],
      "metadata": {
        "id": "00XHUtNaN6B3"
      }
    },
    {
      "cell_type": "code",
      "source": [
        "SEED = 0\n",
        "torch.manual_seed(SEED)\n",
        "\n",
        "tensor_1 = torch.rand(7, 7)\n",
        "tensor_2 = torch.rand(1, 7)\n",
        "\n",
        "torch.matmul(tensor_1, tensor_2.T)"
      ],
      "metadata": {
        "colab": {
          "base_uri": "https://localhost:8080/"
        },
        "id": "zPP4FfKEMe4x",
        "outputId": "7dd2ec06-ddb3-4377-add2-f8627f0a8fc5"
      },
      "execution_count": null,
      "outputs": [
        {
          "output_type": "execute_result",
          "data": {
            "text/plain": [
              "tensor([[1.8542],\n",
              "        [1.9611],\n",
              "        [2.2884],\n",
              "        [3.0481],\n",
              "        [1.7067],\n",
              "        [2.5290],\n",
              "        [1.7989]])"
            ]
          },
          "metadata": {},
          "execution_count": 7
        }
      ]
    },
    {
      "cell_type": "markdown",
      "source": [
        "## 4. Speaking of random seeds, we saw how to set it with torch.manual_seed() but is there a GPU equivalent? (hint: you'll need to look into the documentation for torch.cuda for this one)"
      ],
      "metadata": {
        "id": "3VG2KfrSNuyf"
      }
    },
    {
      "cell_type": "code",
      "source": [
        "GPU_SEED = 1234\n",
        "torch.cuda.manual_seed(GPU_SEED)"
      ],
      "metadata": {
        "id": "_BtYTtjkMwgD"
      },
      "execution_count": null,
      "outputs": []
    },
    {
      "cell_type": "markdown",
      "source": [
        "## 5. Create two random tensors of shape (2, 3) and send them both to the GPU (you'll need access to a GPU for this). Set torch.manual_seed(1234) when creating the tensors (this doesn't have to be the GPU random seed). The output should be something like:"
      ],
      "metadata": {
        "id": "BijiV4m8Nt6t"
      }
    },
    {
      "cell_type": "code",
      "source": [
        "torch.manual_seed(1234)\n",
        "\n",
        "device = \"cuda\" if torch.cuda.is_available() else \"cpu\"\n",
        "\n",
        "tensor_1 = torch.rand(2, 3).to(device)\n",
        "tensor_2 = torch.rand(2, 3).to(device)\n",
        "\n",
        "print(f\"Device: {device}\\n\")\n",
        "print(f\"Tensor 1: {tensor_1}\\n\")\n",
        "print(f\"Tensor 2: {tensor_2}\")"
      ],
      "metadata": {
        "colab": {
          "base_uri": "https://localhost:8080/"
        },
        "id": "J-73BTxUOHvu",
        "outputId": "f44128bc-daf9-4b03-8a4f-5f35b102b801"
      },
      "execution_count": null,
      "outputs": [
        {
          "output_type": "stream",
          "name": "stdout",
          "text": [
            "Device: cpu\n",
            "\n",
            "Tensor 1: tensor([[0.0290, 0.4019, 0.2598],\n",
            "        [0.3666, 0.0583, 0.7006]])\n",
            "\n",
            "Tensor 2: tensor([[0.0518, 0.4681, 0.6738],\n",
            "        [0.3315, 0.7837, 0.5631]])\n"
          ]
        }
      ]
    },
    {
      "cell_type": "markdown",
      "source": [
        "## 6. Perform a matrix multiplication on the tensors you created in 5 (again, you may have to adjust the shapes of one of the tensors)."
      ],
      "metadata": {
        "id": "RZm4YpvJOsFb"
      }
    },
    {
      "cell_type": "code",
      "source": [
        "tensor_3 = tensor_1 @ tensor_2.T\n",
        "tensor_3"
      ],
      "metadata": {
        "colab": {
          "base_uri": "https://localhost:8080/"
        },
        "id": "BtQ53gFeP-vb",
        "outputId": "ed944c51-7523-46c5-d14d-75d5b11e897c"
      },
      "execution_count": null,
      "outputs": [
        {
          "output_type": "execute_result",
          "data": {
            "text/plain": [
              "tensor([[0.3647, 0.4709],\n",
              "        [0.5184, 0.5617]])"
            ]
          },
          "metadata": {},
          "execution_count": 26
        }
      ]
    },
    {
      "cell_type": "markdown",
      "source": [
        "## 7. Find the maximum and minimum values of the output of 7."
      ],
      "metadata": {
        "id": "NuccqXo_QEQ5"
      }
    },
    {
      "cell_type": "code",
      "source": [
        "print(f\"Max of tensor_3: {tensor_3.max()}\\n\")\n",
        "print(f\"Min of tensor_3: {torch.min(tensor_3)}\")"
      ],
      "metadata": {
        "colab": {
          "base_uri": "https://localhost:8080/"
        },
        "id": "nKRAmfPqQSPi",
        "outputId": "da340acd-820b-4f91-908f-70474dd916b6"
      },
      "execution_count": null,
      "outputs": [
        {
          "output_type": "stream",
          "name": "stdout",
          "text": [
            "Max of tensor_3: 0.5617256760597229\n",
            "\n",
            "Min of tensor_3: 0.3647301495075226\n"
          ]
        }
      ]
    },
    {
      "cell_type": "markdown",
      "source": [
        "## 7. Find the maximum and minimum index values of the output of ."
      ],
      "metadata": {
        "id": "PO0237RuQylR"
      }
    },
    {
      "cell_type": "code",
      "source": [
        "argmax = tensor_3.argmax()\n",
        "argmin = tensor_3.argmin()\n",
        "\n",
        "print(f\"arg max: {argmax}\\narg min: {argmin}\")"
      ],
      "metadata": {
        "colab": {
          "base_uri": "https://localhost:8080/"
        },
        "id": "xRmtUawBRLxU",
        "outputId": "dec8b818-6662-4719-9d91-c0f897e76ed0"
      },
      "execution_count": null,
      "outputs": [
        {
          "output_type": "stream",
          "name": "stdout",
          "text": [
            "arg max: 3\n",
            "arg min: 0\n"
          ]
        }
      ]
    },
    {
      "cell_type": "markdown",
      "source": [
        "## 9. Make a random tensor with shape (1, 1, 1, 10) and then create a new tensor with all the 1 dimensions removed to be left with a tensor of shape (10). Set the seed to 7 when you create it and print out the first tensor and it's shape as well as the second tensor and it's shape.\n",
        "The output should look like:"
      ],
      "metadata": {
        "id": "hFXaDMaBRcCw"
      }
    },
    {
      "cell_type": "code",
      "source": [
        "torch.manual_seed(7)\n",
        "\n",
        "random_tensor = torch.rand(1, 1, 1, 10)\n",
        "print(random_tensor, random_tensor.shape, \"\\n\")\n",
        "\n",
        "squeezed_random_tensor = random_tensor.squeeze()\n",
        "print(squeezed_random_tensor, squeezed_random_tensor.shape)"
      ],
      "metadata": {
        "colab": {
          "base_uri": "https://localhost:8080/"
        },
        "id": "EuiOOpWXRmUI",
        "outputId": "6fc80125-2741-4f9e-8d9d-5c3e96e9dc2b"
      },
      "execution_count": null,
      "outputs": [
        {
          "output_type": "stream",
          "name": "stdout",
          "text": [
            "tensor([[[[0.5349, 0.1988, 0.6592, 0.6569, 0.2328, 0.4251, 0.2071, 0.6297,\n",
            "           0.3653, 0.8513]]]]) torch.Size([1, 1, 1, 10]) \n",
            "\n",
            "tensor([0.5349, 0.1988, 0.6592, 0.6569, 0.2328, 0.4251, 0.2071, 0.6297, 0.3653,\n",
            "        0.8513]) torch.Size([10])\n"
          ]
        }
      ]
    },
    {
      "cell_type": "code",
      "source": [],
      "metadata": {
        "id": "ePAHefrTSBp0"
      },
      "execution_count": null,
      "outputs": []
    }
  ]
}