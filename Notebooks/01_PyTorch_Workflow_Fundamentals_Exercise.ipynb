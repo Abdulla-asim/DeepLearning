{
  "nbformat": 4,
  "nbformat_minor": 0,
  "metadata": {
    "colab": {
      "provenance": [],
      "authorship_tag": "ABX9TyONUmVgW8Oyl1xqoyx3Q+M7",
      "include_colab_link": true
    },
    "kernelspec": {
      "name": "python3",
      "display_name": "Python 3"
    },
    "language_info": {
      "name": "python"
    }
  },
  "cells": [
    {
      "cell_type": "markdown",
      "metadata": {
        "id": "view-in-github",
        "colab_type": "text"
      },
      "source": [
        "<a href=\"https://colab.research.google.com/github/Abdulla-asim/DeepLearning/blob/main/Notebooks/01_PyTorch_Workflow_Fundamentals_Exercise.ipynb\" target=\"_parent\"><img src=\"https://colab.research.google.com/assets/colab-badge.svg\" alt=\"Open In Colab\"/></a>"
      ]
    },
    {
      "cell_type": "markdown",
      "source": [
        "# 01_PyTorch_Workflow_Fundamentals_Exercise\n",
        "### Create Data"
      ],
      "metadata": {
        "id": "6a_uaOCSXdw6"
      }
    },
    {
      "cell_type": "code",
      "source": [
        "import torch\n",
        "from torch import nn\n",
        "import matplotlib.pyplot as plt"
      ],
      "metadata": {
        "id": "g2x57eiKZZfx"
      },
      "execution_count": null,
      "outputs": []
    },
    {
      "cell_type": "code",
      "source": [
        "# Create my own parameters\n",
        "weight = 0.46\n",
        "bias = 0.89\n",
        "\n",
        "# Creating a range of data points\n",
        "X = torch.randn(100).unsqueeze(dim=1)\n",
        "y = weight * X + bias\n",
        "X[:10], y[:10]"
      ],
      "metadata": {
        "colab": {
          "base_uri": "https://localhost:8080/"
        },
        "id": "rwZUNMVTYvgK",
        "outputId": "ccbbb470-a464-4c08-b10d-b3e754e14c47"
      },
      "execution_count": null,
      "outputs": [
        {
          "output_type": "execute_result",
          "data": {
            "text/plain": [
              "(tensor([[ 0.8271],\n",
              "         [-0.8417],\n",
              "         [ 0.7041],\n",
              "         [-0.2040],\n",
              "         [ 1.4320],\n",
              "         [-0.5107],\n",
              "         [ 1.5798],\n",
              "         [-1.4727],\n",
              "         [ 0.6767],\n",
              "         [-0.4259]]),\n",
              " tensor([[1.2704],\n",
              "         [0.5028],\n",
              "         [1.2139],\n",
              "         [0.7962],\n",
              "         [1.5487],\n",
              "         [0.6551],\n",
              "         [1.6167],\n",
              "         [0.2125],\n",
              "         [1.2013],\n",
              "         [0.6941]]))"
            ]
          },
          "metadata": {},
          "execution_count": 17
        }
      ]
    },
    {
      "cell_type": "markdown",
      "source": [
        "### Split the Data"
      ],
      "metadata": {
        "id": "F8zIBkS9Zmri"
      }
    },
    {
      "cell_type": "code",
      "source": [
        "# calculate 80% of the data\n",
        "train_split = int(len(X) * 0.8) # <- 80% of the original data\n",
        "\n",
        "# Splitting the data into test and train data\n",
        "X_train, y_train = X[:train_split], y[:train_split]\n",
        "X_test, y_test = X[train_split:], y[train_split:]\n",
        "\n",
        "len(X_train), len(y_train), len(X_test), len(y_test)"
      ],
      "metadata": {
        "colab": {
          "base_uri": "https://localhost:8080/"
        },
        "id": "WjgRhhFhZ_cj",
        "outputId": "fd8382f8-6225-4827-e64d-fd8b5cae3ba2"
      },
      "execution_count": null,
      "outputs": [
        {
          "output_type": "execute_result",
          "data": {
            "text/plain": [
              "(80, 80, 20, 20)"
            ]
          },
          "metadata": {},
          "execution_count": 18
        }
      ]
    },
    {
      "cell_type": "markdown",
      "source": [
        "### Visualize\n"
      ],
      "metadata": {
        "id": "HdpLX70pbOHA"
      }
    },
    {
      "cell_type": "code",
      "source": [
        "def plot_data(train_data = X_train,\n",
        "              train_labels = y_train,\n",
        "              test_data = X_test,\n",
        "              test_labels = y_test,\n",
        "              predictions = None):\n",
        "\n",
        "  plt.figure(figsize=(7,7))\n",
        "\n",
        "  plt.scatter(train_data, train_labels, c='orange', s=4, label=\"Training Data\")\n",
        "  plt.scatter(test_data, test_labels, c='g', s=4, label=\"Test Data\")\n",
        "\n",
        "  # plot predictions if they are given as input\n",
        "  if predictions is not None:\n",
        "    plt.scatter(test_data, predictions, c='r', s=4, label=\"Predictions\")\n",
        "\n",
        "  plt.legend()"
      ],
      "metadata": {
        "id": "bg9AYp_4bsq1"
      },
      "execution_count": null,
      "outputs": []
    },
    {
      "cell_type": "code",
      "source": [
        "plot_data()"
      ],
      "metadata": {
        "colab": {
          "base_uri": "https://localhost:8080/",
          "height": 599
        },
        "id": "gLPU07w9c1Ay",
        "outputId": "5821fe9d-d70d-4535-ae42-99bae548e294"
      },
      "execution_count": null,
      "outputs": [
        {
          "output_type": "display_data",
          "data": {
            "text/plain": [
              "<Figure size 700x700 with 1 Axes>"
            ],
            "image/png": "[encoded data removed]"
          },
          "metadata": {}
        }
      ]
    },
    {
      "cell_type": "markdown",
      "source": [
        "### Build Model"
      ],
      "metadata": {
        "id": "SNxTpZ4bc3L_"
      }
    },
    {
      "cell_type": "code",
      "source": [
        "# Creating a class for linear regression model as a subclass of nn.Module\n",
        "class LinearRegressionModel(nn.Module):\n",
        "  def __init__(self):\n",
        "    super().__init__()\n",
        "\n",
        "    self.linear_layer = nn.Linear(in_features = 1,\n",
        "                                  out_features = 1)\n",
        "\n",
        "  def forward(self, x: torch.Tensor) -> torch.Tensor:\n",
        "    return self.linear_layer(x)"
      ],
      "metadata": {
        "id": "aR_02g9KfGVa"
      },
      "execution_count": null,
      "outputs": []
    },
    {
      "cell_type": "code",
      "source": [
        "torch.manual_seed(70)\n",
        "\n",
        "# Creating an instance of the linear regression model\n",
        "model_1 = LinearRegressionModel()\n",
        "\n",
        "# Checking model's parameters\n",
        "model_1.state_dict()"
      ],
      "metadata": {
        "colab": {
          "base_uri": "https://localhost:8080/"
        },
        "id": "jsdh_6PlfkOk",
        "outputId": "3805bd6d-a4d2-4b1f-f955-b6196dafddd2"
      },
      "execution_count": null,
      "outputs": [
        {
          "output_type": "execute_result",
          "data": {
            "text/plain": [
              "OrderedDict([('linear_layer.weight', tensor([[-0.1300]])),\n",
              "             ('linear_layer.bias', tensor([-0.2817]))])"
            ]
          },
          "metadata": {},
          "execution_count": 22
        }
      ]
    },
    {
      "cell_type": "code",
      "source": [
        "# Create the loss function\n",
        "loss_fn = nn.L1Loss()\n",
        "\n",
        "# Create the optimizer\n",
        "optimizer = torch.optim.Adam(params=model_1.parameters(),\n",
        "                             lr = 0.01)"
      ],
      "metadata": {
        "id": "f0CaHhr4f_9t"
      },
      "execution_count": null,
      "outputs": []
    },
    {
      "cell_type": "code",
      "source": [
        "device = \"cuda\" if torch.cuda.is_available() else \"cpu\"\n",
        "\n",
        "print(f\"Using device: {device}\")"
      ],
      "metadata": {
        "colab": {
          "base_uri": "https://localhost:8080/"
        },
        "id": "V5KIYO3ChofM",
        "outputId": "9d77bcc9-caf1-4c85-8751-6846d9cf8c73"
      },
      "execution_count": null,
      "outputs": [
        {
          "output_type": "stream",
          "name": "stdout",
          "text": [
            "Using device: cuda\n"
          ]
        }
      ]
    },
    {
      "cell_type": "code",
      "source": [
        "# Change model's device\n",
        "model_1.to(device)\n",
        "\n",
        "# Change data to device\n",
        "X_train = X_train.to(device)\n",
        "y_train = y_train.to(device)\n",
        "X_test = X_test.to(device)\n",
        "y_test = y_test.to(device)\n",
        "\n",
        "# Check model's device\n",
        "next(model_1.parameters()).device"
      ],
      "metadata": {
        "colab": {
          "base_uri": "https://localhost:8080/"
        },
        "id": "TGEv0Shrhwog",
        "outputId": "8eba60a4-eb77-49d0-d2e3-0b8a92e4ffe1"
      },
      "execution_count": null,
      "outputs": [
        {
          "output_type": "execute_result",
          "data": {
            "text/plain": [
              "device(type='cuda', index=0)"
            ]
          },
          "metadata": {},
          "execution_count": 25
        }
      ]
    },
    {
      "cell_type": "markdown",
      "source": [
        "### Train and Test Loop"
      ],
      "metadata": {
        "id": "DkeBviqnghQa"
      }
    },
    {
      "cell_type": "code",
      "source": [
        "# setting a manual seed\n",
        "torch.manual_seed(70)\n",
        "\n",
        "# number of iterations\n",
        "epochs = 300\n",
        "\n",
        "# Store data for plotting\n",
        "train_loss_values = []\n",
        "test_loss_values = []\n",
        "epoch_count = []\n",
        "\n",
        "for epoch in range(epochs):\n",
        "\n",
        "  ### Training Model\n",
        "\n",
        "  # set model to train mode\n",
        "  model_1.train()\n",
        "\n",
        "  # Forward Pass\n",
        "  train_pred = model_1(X_train)\n",
        "\n",
        "  # Calculate loss\n",
        "  train_loss = loss_fn(train_pred, y_train)\n",
        "\n",
        "  # zero grad\n",
        "  optimizer.zero_grad()\n",
        "\n",
        "  # backpropagation\n",
        "  train_loss.backward()\n",
        "\n",
        "  # Gradient Descent\n",
        "  optimizer.step()\n",
        "\n",
        "  ### Testing Loop\n",
        "\n",
        "  # setting model to evaluation mode\n",
        "  model_1.eval()\n",
        "\n",
        "  # using the inference mode context manager\n",
        "  with torch.inference_mode():\n",
        "    # forward pass\n",
        "    test_pred = model_1(X_test)\n",
        "\n",
        "    # Calculate loss\n",
        "    test_loss = loss_fn(test_pred, y_test)\n",
        "\n",
        "  if epoch % 20 == 0:\n",
        "    epoch_count.append(epoch)\n",
        "    train_loss_values.append(train_loss.item())\n",
        "    test_loss_values.append(test_loss.item())\n",
        "    print(f\"Epochs: {epoch:3} | MAE Training Loss: {train_loss:1.5f} | MAE Test Loss: {test_loss:1.5f}\")"
      ],
      "metadata": {
        "colab": {
          "base_uri": "https://localhost:8080/"
        },
        "id": "qsxgUgTfhQeC",
        "outputId": "d70550e0-ba44-4846-fb51-5b561bac8ddd"
      },
      "execution_count": null,
      "outputs": [
        {
          "output_type": "stream",
          "name": "stdout",
          "text": [
            "Epochs:   0 | MAE Training Loss: 1.24545 | MAE Test Loss: 1.22838\n",
            "Epochs:  20 | MAE Training Loss: 1.02000 | MAE Test Loss: 1.00616\n",
            "Epochs:  40 | MAE Training Loss: 0.79696 | MAE Test Loss: 0.78435\n",
            "Epochs:  60 | MAE Training Loss: 0.57363 | MAE Test Loss: 0.56227\n",
            "Epochs:  80 | MAE Training Loss: 0.35013 | MAE Test Loss: 0.34006\n",
            "Epochs: 100 | MAE Training Loss: 0.17477 | MAE Test Loss: 0.15970\n",
            "Epochs: 120 | MAE Training Loss: 0.00221 | MAE Test Loss: 0.00710\n",
            "Epochs: 140 | MAE Training Loss: 0.01168 | MAE Test Loss: 0.01132\n",
            "Epochs: 160 | MAE Training Loss: 0.00135 | MAE Test Loss: 0.00047\n",
            "Epochs: 180 | MAE Training Loss: 0.00038 | MAE Test Loss: 0.00124\n",
            "Epochs: 200 | MAE Training Loss: 0.00056 | MAE Test Loss: 0.00106\n",
            "Epochs: 220 | MAE Training Loss: 0.00139 | MAE Test Loss: 0.00226\n",
            "Epochs: 240 | MAE Training Loss: 0.00107 | MAE Test Loss: 0.00113\n",
            "Epochs: 260 | MAE Training Loss: 0.00081 | MAE Test Loss: 0.00136\n",
            "Epochs: 280 | MAE Training Loss: 0.00168 | MAE Test Loss: 0.00118\n"
          ]
        }
      ]
    },
    {
      "cell_type": "markdown",
      "source": [
        "### Visualize the loss curve"
      ],
      "metadata": {
        "id": "mBgQXTXRkQ7w"
      }
    },
    {
      "cell_type": "code",
      "source": [
        "plt.plot(epoch_count, train_loss_values, c=\"b\", label=\"Training Loss\")\n",
        "plt.plot(epoch_count, test_loss_values, c='g', label=\"Test Loss\")\n",
        "\n",
        "plt.legend()"
      ],
      "metadata": {
        "colab": {
          "base_uri": "https://localhost:8080/",
          "height": 447
        },
        "id": "4i0BSxU5lBTd",
        "outputId": "19f797a6-3eac-46e3-fae9-5e87c04cf574"
      },
      "execution_count": null,
      "outputs": [
        {
          "output_type": "execute_result",
          "data": {
            "text/plain": [
              "<matplotlib.legend.Legend at 0x7c43f1dda7a0>"
            ]
          },
          "metadata": {},
          "execution_count": 27
        },
        {
          "output_type": "display_data",
          "data": {
            "text/plain": [
              "<Figure size 640x480 with 1 Axes>"
            ],
            "image/png": "[encoded data removed]"
          },
          "metadata": {}
        }
      ]
    },
    {
      "cell_type": "markdown",
      "source": [
        "### Visualize the Predictions"
      ],
      "metadata": {
        "id": "wcPARjDBlYNK"
      }
    },
    {
      "cell_type": "code",
      "source": [
        "plot_data(predictions=test_pred.cpu())"
      ],
      "metadata": {
        "colab": {
          "base_uri": "https://localhost:8080/",
          "height": 599
        },
        "id": "nbZFc7OFlyD5",
        "outputId": "467a90e3-d308-4eea-cca3-fa8f8284ddb7"
      },
      "execution_count": null,
      "outputs": [
        {
          "output_type": "display_data",
          "data": {
            "text/plain": [
              "<Figure size 700x700 with 1 Axes>"
            ],
            "image/png": "[encoded data removed]"
          },
          "metadata": {}
        }
      ]
    },
    {
      "cell_type": "code",
      "source": [
        "print(f\"Original weight and bias used:\")\n",
        "print(f\"weight: {weight}, bias: {bias}\\n\")\n",
        "\n",
        "print(f\"Model's learned parameters:\\n{model_1.state_dict()}\")\n"
      ],
      "metadata": {
        "colab": {
          "base_uri": "https://localhost:8080/"
        },
        "id": "xTRkySGSl4bn",
        "outputId": "e195852d-fc64-4d74-e104-efca1b6ac861"
      },
      "execution_count": null,
      "outputs": [
        {
          "output_type": "stream",
          "name": "stdout",
          "text": [
            "Original weight and bias used:\n",
            "weight: 0.46, bias: 0.89\n",
            "\n",
            "Model's learned parameters:\n",
            "OrderedDict([('linear_layer.weight', tensor([[0.4585]], device='cuda:0')), ('linear_layer.bias', tensor([0.8899], device='cuda:0'))])\n"
          ]
        }
      ]
    },
    {
      "cell_type": "markdown",
      "source": [
        "### Save the Model\n"
      ],
      "metadata": {
        "id": "qZLtQEDpmCo8"
      }
    },
    {
      "cell_type": "code",
      "source": [
        "from pathlib import Path"
      ],
      "metadata": {
        "id": "gfE5dXecHVL3"
      },
      "execution_count": null,
      "outputs": []
    },
    {
      "cell_type": "code",
      "source": [
        "# Create model path\n",
        "MODEL_PATH = Path(\"Models\")\n",
        "MODEL_PATH.mkdir(parents=True, exist_ok=True)\n",
        "\n",
        "# Create Model Save Path\n",
        "MODEL_NAME = \"01_PyTorch_Project.pth\"\n",
        "MODEL_SAVE_PATH = MODEL_PATH / MODEL_NAME\n",
        "\n",
        "# Save model\n",
        "torch.save(obj=model_1.state_dict(), f=MODEL_SAVE_PATH)\n",
        "print(f\"saving model: {MODEL_SAVE_PATH}\")"
      ],
      "metadata": {
        "colab": {
          "base_uri": "https://localhost:8080/"
        },
        "id": "KfU2vXOtHc43",
        "outputId": "228291f7-96fc-4338-a99d-446bc558ae39"
      },
      "execution_count": null,
      "outputs": [
        {
          "output_type": "stream",
          "name": "stdout",
          "text": [
            "saving model: Models/01_PyTorch_Project.pth\n"
          ]
        }
      ]
    },
    {
      "cell_type": "markdown",
      "source": [
        "### Load saved model and perform predictions"
      ],
      "metadata": {
        "id": "xniujTKgIr_o"
      }
    },
    {
      "cell_type": "code",
      "source": [
        "# creat a new instance of LinearRegressionModel\n",
        "loaded_model = LinearRegressionModel()\n",
        "\n",
        "# Load the state dict of saved model\n",
        "loaded_model.load_state_dict(torch.load(MODEL_SAVE_PATH))\n",
        "\n",
        "loaded_model.to(device)\n",
        "\n",
        "loaded_model.state_dict()"
      ],
      "metadata": {
        "colab": {
          "base_uri": "https://localhost:8080/"
        },
        "id": "x_Hvu6OJI4pB",
        "outputId": "877c7217-3ecf-4903-949f-0390bfcc2f73"
      },
      "execution_count": null,
      "outputs": [
        {
          "output_type": "execute_result",
          "data": {
            "text/plain": [
              "OrderedDict([('linear_layer.weight', tensor([[0.4585]], device='cuda:0')),\n",
              "             ('linear_layer.bias', tensor([0.8899], device='cuda:0'))])"
            ]
          },
          "metadata": {},
          "execution_count": 32
        }
      ]
    },
    {
      "cell_type": "code",
      "source": [
        "# Perfrom predictions\n",
        "loaded_model.eval()\n",
        "\n",
        "with torch.inference_mode():\n",
        "  # forward pass\n",
        "  new_pred = loaded_model(X_test)\n",
        "\n",
        "  # loss calculation\n",
        "  new_loss = loss_fn(new_pred, y_test)\n",
        "\n",
        "new_pred == test_pred"
      ],
      "metadata": {
        "colab": {
          "base_uri": "https://localhost:8080/"
        },
        "id": "C2XlwCcHJf4q",
        "outputId": "7c677476-fea4-4773-cd0c-9f8e40ac2764"
      },
      "execution_count": null,
      "outputs": [
        {
          "output_type": "execute_result",
          "data": {
            "text/plain": [
              "tensor([[True],\n",
              "        [True],\n",
              "        [True],\n",
              "        [True],\n",
              "        [True],\n",
              "        [True],\n",
              "        [True],\n",
              "        [True],\n",
              "        [True],\n",
              "        [True],\n",
              "        [True],\n",
              "        [True],\n",
              "        [True],\n",
              "        [True],\n",
              "        [True],\n",
              "        [True],\n",
              "        [True],\n",
              "        [True],\n",
              "        [True],\n",
              "        [True]], device='cuda:0')"
            ]
          },
          "metadata": {},
          "execution_count": 33
        }
      ]
    },
    {
      "cell_type": "code",
      "source": [],
      "metadata": {
        "id": "SPTEf1_NKSTx"
      },
      "execution_count": null,
      "outputs": []
    }
  ]
}