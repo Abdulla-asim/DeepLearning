{
  "nbformat": 4,
  "nbformat_minor": 0,
  "metadata": {
    "colab": {
      "provenance": [],
      "authorship_tag": "ABX9TyOxce2CrlAzT4aXwTphv3kV",
      "include_colab_link": true
    },
    "kernelspec": {
      "name": "python3",
      "display_name": "Python 3"
    },
    "language_info": {
      "name": "python"
    }
  },
  "cells": [
    {
      "cell_type": "markdown",
      "metadata": {
        "id": "view-in-github",
        "colab_type": "text"
      },
      "source": [
        "<a href=\"https://colab.research.google.com/github/Abdulla-asim/DeepLearning/blob/main/Notebooks/05_PyTorch_Going_Modular.ipynb\" target=\"_parent\"><img src=\"https://colab.research.google.com/assets/colab-badge.svg\" alt=\"Open In Colab\"/></a>"
      ]
    },
    {
      "cell_type": "markdown",
      "source": [
        "# 05. PyTorch Going Modular"
      ],
      "metadata": {
        "id": "xKiPSlCZ9mrS"
      }
    },
    {
      "cell_type": "markdown",
      "source": [
        "Following Python scripts were created in the `going_modular` directory to be used later in the creation and training of deep learning models:\n",
        "\n",
        "1.   data_setup.py\n",
        "2.   engine.py\n",
        "3.   get_data.py\n",
        "4.   model_builder.py\n",
        "5.   predict.py\n",
        "6.   utils.py\n"
      ],
      "metadata": {
        "id": "9mxJiBcc_pTQ"
      }
    },
    {
      "cell_type": "code",
      "source": [],
      "metadata": {
        "id": "5K88gO8CIkwA"
      },
      "execution_count": null,
      "outputs": []
    }
  ]
}